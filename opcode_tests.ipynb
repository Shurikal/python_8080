{
 "cells": [
  {
   "cell_type": "code",
   "execution_count": 1,
   "metadata": {},
   "outputs": [
    {
     "name": "stdout",
     "output_type": "stream",
     "text": [
      "i8080_exec\n",
      "Initialising i8080 object\n"
     ]
    }
   ],
   "source": [
    "# import the i8080 module\n",
    "import _i8080 as i8080\n",
    "\n",
    "dut = i8080.i8080_new()"
   ]
  },
  {
   "cell_type": "code",
   "execution_count": 2,
   "metadata": {},
   "outputs": [
    {
     "name": "stdout",
     "output_type": "stream",
     "text": [
      "Testing INR b\n",
      "Testing INR c\n",
      "Testing INR d\n",
      "Testing INR e\n",
      "Testing INR h\n",
      "Testing INR l\n",
      "Testing INR m\n",
      "Testing INR a\n"
     ]
    }
   ],
   "source": [
    "# INR Increment Register or Memory Tests\n",
    "\n",
    "inr_opcode = 0b0000_0100\n",
    "\n",
    "registers = {\n",
    "    \"b\": 0b000,\n",
    "    \"c\": 0b001,\n",
    "    \"d\": 0b010,\n",
    "    \"e\": 0b011,\n",
    "    \"h\": 0b100,\n",
    "    \"l\": 0b101,\n",
    "    \"m\": 0b110,\n",
    "    \"a\": 0b111,\n",
    "}\n",
    "\n",
    "for register, register_code in registers.items():\n",
    "    print(f\"Testing INR {register}\")\n",
    "\n",
    "    for i in range(0,256):\n",
    "        dut.reset()\n",
    "\n",
    "        if register == \"m\":\n",
    "            # Set the memory address to 0x1000\n",
    "            # otherwise the memory address will be 0x0000, where the instruction is stored\n",
    "            # dut.set_reg(\"h\", 0x10)\n",
    "            dut.h = 0x10\n",
    "        \n",
    "        #dut.set_reg(register, i)\n",
    "        setattr(dut, register, i)\n",
    "\n",
    "        opcode = inr_opcode | (register_code << 3)\n",
    "        dut.set_memory(0, opcode)\n",
    "        dut.run_instruction()\n",
    "\n",
    "        expected = (i + 1) & 0xFF\n",
    "        #actual = dut.get_reg(register)\n",
    "        actual = getattr(dut, register)\n",
    "\n",
    "        if expected != actual:\n",
    "            print(f\"{register} failed at {i} expected {expected} got {actual}\")\n",
    "            break"
   ]
  },
  {
   "cell_type": "code",
   "execution_count": 3,
   "metadata": {},
   "outputs": [
    {
     "name": "stdout",
     "output_type": "stream",
     "text": [
      "Testing DCR b\n",
      "Testing DCR c\n",
      "Testing DCR d\n",
      "Testing DCR e\n",
      "Testing DCR h\n",
      "Testing DCR l\n",
      "Testing DCR m\n",
      "Testing DCR a\n"
     ]
    }
   ],
   "source": [
    "# DCR Decrement Register or Memory Tests\n",
    "\n",
    "dcr_opcode = 0b0000_0101\n",
    "\n",
    "registers = {\n",
    "    \"b\": 0b000,\n",
    "    \"c\": 0b001,\n",
    "    \"d\": 0b010,\n",
    "    \"e\": 0b011,\n",
    "    \"h\": 0b100,\n",
    "    \"l\": 0b101,\n",
    "    \"m\": 0b110,\n",
    "    \"a\": 0b111,\n",
    "}\n",
    "\n",
    "for register, register_code in registers.items():\n",
    "    print(f\"Testing DCR {register}\")\n",
    "\n",
    "    for i in range(0,256):\n",
    "        dut.reset()\n",
    "\n",
    "        if register == \"m\":\n",
    "            # Set the memory address to 0x1000\n",
    "            # otherwise the memory address will be 0x0000, where the instruction is stored\n",
    "            #dut.set_reg(\"h\", 0x10)\n",
    "            dut.h = 0x10\n",
    "        #dut.set_reg(register, i)\n",
    "        setattr(dut, register, i)\n",
    "\n",
    "        opcode = dcr_opcode | (register_code << 3)\n",
    "        dut.set_memory(0, opcode)\n",
    "        dut.run_instruction()\n",
    "\n",
    "        expected = (i - 1) & 0xFF\n",
    "        #actual = dut.get_reg(register)\n",
    "        actual = getattr(dut, register)\n",
    "\n",
    "        if expected != actual:\n",
    "            print(f\"{register} failed at {i} expected {expected} got {actual}\")\n",
    "            break"
   ]
  },
  {
   "cell_type": "code",
   "execution_count": 4,
   "metadata": {},
   "outputs": [],
   "source": [
    "# CMA Complement Accumulator Tests\n",
    "\n",
    "cma_opcode = 0b0010_1111\n",
    "\n",
    "for i in range(0,256):\n",
    "    dut.reset()\n",
    "\n",
    "    #dut.set_reg(\"a\", i)\n",
    "    dut.a = i\n",
    "\n",
    "    dut.set_memory(0, cma_opcode)\n",
    "    dut.run_instruction()\n",
    "\n",
    "    expected = ~i & 0xFF\n",
    "    #actual = dut.get_reg(\"a\")\n",
    "    actual = dut.a\n",
    "\n",
    "    if expected != actual:\n",
    "        print(f\"CMA failed at {i} expected {expected} got {actual}\")\n",
    "        break"
   ]
  },
  {
   "cell_type": "code",
   "execution_count": 5,
   "metadata": {},
   "outputs": [
    {
     "name": "stdout",
     "output_type": "stream",
     "text": [
      "DAA failed at 10 expected 10 got 00\n"
     ]
    }
   ],
   "source": [
    "# DAA Decimal Adjust Accumulator Tests\n",
    "\n",
    "daa_opcode = 0b0010_0111\n",
    "\n",
    "for i in range(0,256):\n",
    "    dut.reset()\n",
    "\n",
    "    dut.a = i\n",
    "\n",
    "    dut.set_memory(0, daa_opcode)\n",
    "    dut.run_instruction()\n",
    "\n",
    "    actual = dut.a\n",
    "\n",
    "    high_nibble = (actual >> 4) & 0xF\n",
    "    low_nibble = actual & 0xF\n",
    "\n",
    "\n",
    "    high_nibble_i = (i >> 4) & 0xF\n",
    "    low_nibble_i = i & 0xF\n",
    "\n",
    "    if low_nibble_i > 9 or dut.ac:\n",
    "        low_nibble_i += 6\n",
    "        low_nibble_i &= 0xF\n",
    "\n",
    "    if high_nibble_i > 9 or dut.cy:\n",
    "        high_nibble += 6\n",
    "        high_nibble &= 0xF\n",
    "\n",
    "    if high_nibble_i != high_nibble or low_nibble_i != low_nibble:\n",
    "        print(f\"DAA failed at {i} expected {high_nibble}{low_nibble} got {high_nibble_i}{low_nibble_i}\")\n",
    "        break"
   ]
  },
  {
   "cell_type": "code",
   "execution_count": 6,
   "metadata": {},
   "outputs": [],
   "source": [
    "# Test Call and Return\n",
    "\n",
    "dut.reset()\n",
    "\n",
    "call_opcode = 0b1100_1101\n",
    "ret_opcode = 0b1100_1001\n",
    "\n",
    "dut.sp = 0x1000\n",
    "\n",
    "dut.set_memory(0, call_opcode)\n",
    "dut.set_memory(1, 0x03)\n",
    "dut.set_memory(2, 0x03)\n",
    "\n",
    "dut.set_memory(0x0303, ret_opcode)\n",
    "\n",
    "dut.run_instruction()\n",
    "dut.run_instruction()\n",
    "\n",
    "# Program Counter should be 0x0003\n",
    "if dut.pc != 0x0003:\n",
    "    print(f\"Call and Return failed, expected PC = 0x0003, got {dut.pc}\")\n"
   ]
  },
  {
   "cell_type": "code",
   "execution_count": 7,
   "metadata": {},
   "outputs": [
    {
     "name": "stdout",
     "output_type": "stream",
     "text": [
      "Testing LXI bc\n",
      "Testing LXI de\n",
      "Testing LXI hl\n",
      "Testing LXI sp\n"
     ]
    }
   ],
   "source": [
    "# Check LXI\n",
    "\n",
    "lxi_opcode = 0b0000_0001\n",
    "\n",
    "registers = {\n",
    "    \"bc\": 0b00,\n",
    "    \"de\": 0b01,\n",
    "    \"hl\": 0b10,\n",
    "    \"sp\": 0b11,\n",
    "}\n",
    "\n",
    "for register, register_code in registers.items():\n",
    "    print(f\"Testing LXI {register}\")\n",
    "\n",
    "    for i in range(128,512):\n",
    "        dut.reset()\n",
    "\n",
    "        opcode = lxi_opcode | (register_code << 4)\n",
    "        dut.set_memory(0, opcode)\n",
    "\n",
    "        dut.set_memory(1, i & 0xFF)\n",
    "        dut.set_memory(2, (i >> 8) & 0xFF)\n",
    "        dut.run_instruction()\n",
    "\n",
    "        expected = i\n",
    "\n",
    "        actual = getattr(dut, register)\n",
    "\n",
    "        if expected != actual:\n",
    "            print(f\"{register} failed at {i} expected {expected} got {actual}\")\n",
    "            break"
   ]
  },
  {
   "cell_type": "code",
   "execution_count": null,
   "metadata": {},
   "outputs": [],
   "source": []
  }
 ],
 "metadata": {
  "kernelspec": {
   "display_name": "Python 3.11.0 ('python8bit')",
   "language": "python",
   "name": "python3"
  },
  "language_info": {
   "codemirror_mode": {
    "name": "ipython",
    "version": 3
   },
   "file_extension": ".py",
   "mimetype": "text/x-python",
   "name": "python",
   "nbconvert_exporter": "python",
   "pygments_lexer": "ipython3",
   "version": "3.11.0"
  },
  "orig_nbformat": 4,
  "vscode": {
   "interpreter": {
    "hash": "2917d79575cb36df6e26f7af0c5fc9176e632233142857ae4ca7cf13f766e084"
   }
  }
 },
 "nbformat": 4,
 "nbformat_minor": 2
}
