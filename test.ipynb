{
 "cells": [
  {
   "cell_type": "code",
   "execution_count": 1,
   "metadata": {},
   "outputs": [
    {
     "name": "stdout",
     "output_type": "stream",
     "text": [
      "i8080_exec\n",
      "Initialising i8080 object\n"
     ]
    }
   ],
   "source": [
    "# import the i8080 module\n",
    "import _i8080 as i8080\n",
    "\n",
    "cpu = i8080.i8080_new()"
   ]
  },
  {
   "cell_type": "code",
   "execution_count": 2,
   "metadata": {},
   "outputs": [
    {
     "data": {
      "text/plain": [
       "2048"
      ]
     },
     "execution_count": 2,
     "metadata": {},
     "output_type": "execute_result"
    }
   ],
   "source": [
    "# load rom into memory with offset 0\n",
    "cpu.load_rom(\"roms/pv01\",0x0)"
   ]
  },
  {
   "cell_type": "code",
   "execution_count": 3,
   "metadata": {},
   "outputs": [
    {
     "data": {
      "text/plain": [
       "'0xc3'"
      ]
     },
     "execution_count": 3,
     "metadata": {},
     "output_type": "execute_result"
    }
   ],
   "source": [
    "# read a byte from memory\n",
    "hex(cpu.read_rom(12))"
   ]
  },
  {
   "cell_type": "code",
   "execution_count": 4,
   "metadata": {},
   "outputs": [
    {
     "data": {
      "text/plain": [
       "0"
      ]
     },
     "execution_count": 4,
     "metadata": {},
     "output_type": "execute_result"
    }
   ],
   "source": [
    "# get register cc\n",
    "cpu.get_reg(\"cc\")"
   ]
  },
  {
   "cell_type": "code",
   "execution_count": 5,
   "metadata": {},
   "outputs": [
    {
     "name": "stdout",
     "output_type": "stream",
     "text": [
      "Setting register cc to 0"
     ]
    },
    {
     "data": {
      "text/plain": [
       "0"
      ]
     },
     "execution_count": 5,
     "metadata": {},
     "output_type": "execute_result"
    }
   ],
   "source": [
    "# set register cc\n",
    "cpu.set_reg(register=\"cc\",value=0)"
   ]
  },
  {
   "cell_type": "code",
   "execution_count": 6,
   "metadata": {},
   "outputs": [
    {
     "name": "stdout",
     "output_type": "stream",
     "text": [
      "(1, 'NOP')\n",
      "(1, 'NOP')\n",
      "(1, 'NOP')\n",
      "(3, 'JMP    $168f')\n",
      "(1, 'NOP')\n",
      "(1, 'NOP')\n",
      "(1, 'PUSH   PSW')\n",
      "(1, 'PUSH   B')\n",
      "(1, 'PUSH   D')\n",
      "(1, 'PUSH   H')\n",
      "(3, 'JMP    $0d83')\n",
      "(1, 'NOP')\n",
      "(1, 'PUSH   PSW')\n",
      "(1, 'PUSH   B')\n",
      "(1, 'PUSH   D')\n",
      "(1, 'PUSH   H')\n",
      "(2, 'MVI    A,#$80')\n",
      "(3, 'STA    $2072')\n",
      "(3, 'LXI    H,#$20c0')\n",
      "(1, 'DCR    M')\n",
      "Setting register pc to 0"
     ]
    }
   ],
   "source": [
    "# disassemble a few instructions\n",
    "cpu.set_reg(\"pc\",0)\n",
    "\n",
    "for i in range(0,20):\n",
    "    print(cpu.disassemble())"
   ]
  },
  {
   "cell_type": "code",
   "execution_count": 13,
   "metadata": {},
   "outputs": [
    {
     "name": "stdout",
     "output_type": "stream",
     "text": [
      "RNCNot implemented"
     ]
    }
   ],
   "source": [
    "cpu.run_instruction()"
   ]
  },
  {
   "cell_type": "code",
   "execution_count": 6,
   "metadata": {},
   "outputs": [
    {
     "name": "stdout",
     "output_type": "stream",
     "text": [
      "Setting register pc to 0\n",
      "\t"
     ]
    },
    {
     "data": {
      "text/plain": [
       "0"
      ]
     },
     "execution_count": 6,
     "metadata": {},
     "output_type": "execute_result"
    }
   ],
   "source": [
    "cpu.set_reg(\"pc\",0)"
   ]
  },
  {
   "cell_type": "code",
   "execution_count": null,
   "metadata": {},
   "outputs": [],
   "source": []
  }
 ],
 "metadata": {
  "kernelspec": {
   "display_name": "Python 3.11.0 ('python8bit')",
   "language": "python",
   "name": "python3"
  },
  "language_info": {
   "codemirror_mode": {
    "name": "ipython",
    "version": 3
   },
   "file_extension": ".py",
   "mimetype": "text/x-python",
   "name": "python",
   "nbconvert_exporter": "python",
   "pygments_lexer": "ipython3",
   "version": "3.11.0"
  },
  "orig_nbformat": 4,
  "vscode": {
   "interpreter": {
    "hash": "2917d79575cb36df6e26f7af0c5fc9176e632233142857ae4ca7cf13f766e084"
   }
  }
 },
 "nbformat": 4,
 "nbformat_minor": 2
}
