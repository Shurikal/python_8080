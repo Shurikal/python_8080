{
 "cells": [
  {
   "cell_type": "code",
   "execution_count": 7,
   "metadata": {},
   "outputs": [
    {
     "name": "stdout",
     "output_type": "stream",
     "text": [
      "Initialising i8080 object\n",
      "Deallocating memory\n"
     ]
    }
   ],
   "source": [
    "# import the i8080 module\n",
    "import _i8080 as i8080\n",
    "\n",
    "cpu = i8080.i8080_new()"
   ]
  },
  {
   "cell_type": "code",
   "execution_count": 8,
   "metadata": {},
   "outputs": [
    {
     "name": "stdout",
     "output_type": "stream",
     "text": [
      "10240\n"
     ]
    }
   ],
   "source": [
    "# load rom into memory with offset 0\n",
    "offset = cpu.load_rom(\"roms/pv01\",0x0)\n",
    "offset += cpu.load_rom(\"roms/pv02\",offset)\n",
    "offset +=cpu.load_rom(\"roms/pv03\",offset)\n",
    "offset += cpu.load_rom(\"roms/pv04\",offset)\n",
    "offset += cpu.load_rom(\"roms/pv05\",offset)\n",
    "\n",
    "print(offset)"
   ]
  },
  {
   "cell_type": "code",
   "execution_count": 9,
   "metadata": {},
   "outputs": [
    {
     "name": "stdout",
     "output_type": "stream",
     "text": [
      "NOP\n",
      "NOP\n",
      "NOP\n",
      "JMP\n",
      "LXI SP\n",
      "MVI B\n",
      "CALL\n",
      "LXI D\n",
      "LXI H\n",
      "JMP\n"
     ]
    }
   ],
   "source": [
    "for i in range(0,10):\n",
    "\n",
    "    cpu.run_instruction()"
   ]
  },
  {
   "cell_type": "code",
   "execution_count": 10,
   "metadata": {},
   "outputs": [
    {
     "name": "stdout",
     "output_type": "stream",
     "text": [
      "0000 -> 0001 NOP\n",
      "0001 -> 0002 NOP\n",
      "0002 -> 0003 NOP\n",
      "0003 -> 168F JMP    $168f\n",
      "168F -> 1692 LXI    SP,#$2400\n",
      "1692 -> 1694 MVI    B,#$00\n",
      "1694 -> 022C CALL   $022c\n",
      "022C -> 022F LXI    D,#$1b00\n",
      "022F -> 0232 LXI    H,#$2000\n",
      "0232 -> 17B2 JMP    $17b2\n",
      "17B2 -> 17B3 LDAX   D\n",
      "17B3 -> 17B4 MOV    M,A\n",
      "17B4 -> 17B5 INX    H\n",
      "17B5 -> 17B6 INX    D\n",
      "17B6 -> 17B7 DCR    B\n",
      "17B7 -> 17B2 JNZ    $17b2\n",
      "17B2 -> 17B3 LDAX   D\n",
      "17B3 -> 17B4 MOV    M,A\n",
      "17B4 -> 17B5 INX    H\n",
      "17B5 -> 17B6 INX    D\n",
      "17B6 -> 17B7 DCR    B\n",
      "17B7 -> 17B2 JNZ    $17b2\n",
      "17B2 -> 17B3 LDAX   D\n",
      "17B3 -> 17B4 MOV    M,A\n",
      "17B4 -> 17B5 INX    H\n",
      "17B5 -> 17B6 INX    D\n",
      "17B6 -> 17B7 DCR    B\n",
      "17B7 -> 17B2 JNZ    $17b2\n",
      "17B2 -> 17B3 LDAX   D\n",
      "17B3 -> 17B4 MOV    M,A\n",
      "17B4 -> 17B5 INX    H\n",
      "17B5 -> 17B6 INX    D\n",
      "17B6 -> 17B7 DCR    B\n",
      "17B7 -> 17B2 JNZ    $17b2\n",
      "17B2 -> 17B3 LDAX   D\n",
      "17B3 -> 17B4 MOV    M,A\n",
      "17B4 -> 17B5 INX    H\n",
      "17B5 -> 17B6 INX    D\n",
      "17B6 -> 17B7 DCR    B\n",
      "17B7 -> 17B2 JNZ    $17b2\n",
      "17B2 -> 17B3 LDAX   D\n",
      "17B3 -> 17B4 MOV    M,A\n",
      "17B4 -> 17B5 INX    H\n",
      "17B5 -> 17B6 INX    D\n",
      "17B6 -> 17B7 DCR    B\n",
      "17B7 -> 17B2 JNZ    $17b2\n",
      "17B2 -> 17B3 LDAX   D\n",
      "17B3 -> 17B4 MOV    M,A\n",
      "17B4 -> 17B5 INX    H\n",
      "17B5 -> 17B6 INX    D\n",
      "17B6 -> 17B7 DCR    B\n",
      "17B7 -> 17B2 JNZ    $17b2\n",
      "17B2 -> 17B3 LDAX   D\n",
      "17B3 -> 17B4 MOV    M,A\n",
      "17B4 -> 17B5 INX    H\n",
      "17B5 -> 17B6 INX    D\n",
      "17B6 -> 17B7 DCR    B\n",
      "17B7 -> 17B2 JNZ    $17b2\n",
      "17B2 -> 17B3 LDAX   D\n",
      "17B3 -> 17B4 MOV    M,A\n",
      "17B4 -> 17B5 INX    H\n",
      "17B5 -> 17B6 INX    D\n",
      "17B6 -> 17B7 DCR    B\n",
      "17B7 -> 17B2 JNZ    $17b2\n",
      "17B2 -> 17B3 LDAX   D\n",
      "17B3 -> 17B4 MOV    M,A\n",
      "17B4 -> 17B5 INX    H\n",
      "17B5 -> 17B6 INX    D\n",
      "17B6 -> 17B7 DCR    B\n",
      "17B7 -> 17B2 JNZ    $17b2\n",
      "17B2 -> 17B3 LDAX   D\n",
      "17B3 -> 17B4 MOV    M,A\n",
      "17B4 -> 17B5 INX    H\n",
      "17B5 -> 17B6 INX    D\n",
      "17B6 -> 17B7 DCR    B\n",
      "17B7 -> 17B2 JNZ    $17b2\n",
      "17B2 -> 17B3 LDAX   D\n",
      "17B3 -> 17B4 MOV    M,A\n",
      "17B4 -> 17B5 INX    H\n",
      "17B5 -> 17B6 INX    D\n",
      "17B6 -> 17B7 DCR    B\n",
      "17B7 -> 17B2 JNZ    $17b2\n",
      "17B2 -> 17B3 LDAX   D\n",
      "17B3 -> 17B4 MOV    M,A\n",
      "17B4 -> 17B5 INX    H\n",
      "17B5 -> 17B6 INX    D\n",
      "17B6 -> 17B7 DCR    B\n",
      "17B7 -> 17B2 JNZ    $17b2\n",
      "17B2 -> 17B3 LDAX   D\n",
      "17B3 -> 17B4 MOV    M,A\n",
      "17B4 -> 17B5 INX    H\n",
      "17B5 -> 17B6 INX    D\n",
      "17B6 -> 17B7 DCR    B\n",
      "17B7 -> 17B2 JNZ    $17b2\n",
      "17B2 -> 17B3 LDAX   D\n",
      "17B3 -> 17B4 MOV    M,A\n",
      "17B4 -> 17B5 INX    H\n",
      "17B5 -> 17B6 INX    D\n",
      "17B6 -> 17B7 DCR    B\n",
      "17B7 -> 17B2 JNZ    $17b2\n",
      "NOP\n",
      "NOP\n",
      "NOP\n",
      "JMP\n",
      "LXI SP\n",
      "MVI B\n",
      "CALL\n",
      "LXI D\n",
      "LXI H\n",
      "JMP\n",
      "LDAX D\n",
      "MOV M,A\n",
      "INX H\n",
      "INX D\n",
      "DCR B\n",
      "JNZ\n",
      "LDAX D\n",
      "MOV M,A\n",
      "INX H\n",
      "INX D\n",
      "DCR B\n",
      "JNZ\n",
      "LDAX D\n",
      "MOV M,A\n",
      "INX H\n",
      "INX D\n",
      "DCR B\n",
      "JNZ\n",
      "LDAX D\n",
      "MOV M,A\n",
      "INX H\n",
      "INX D\n",
      "DCR B\n",
      "JNZ\n",
      "LDAX D\n",
      "MOV M,A\n",
      "INX H\n",
      "INX D\n",
      "DCR B\n",
      "JNZ\n",
      "LDAX D\n",
      "MOV M,A\n",
      "INX H\n",
      "INX D\n",
      "DCR B\n",
      "JNZ\n",
      "LDAX D\n",
      "MOV M,A\n",
      "INX H\n",
      "INX D\n",
      "DCR B\n",
      "JNZ\n",
      "LDAX D\n",
      "MOV M,A\n",
      "INX H\n",
      "INX D\n",
      "DCR B\n",
      "JNZ\n",
      "LDAX D\n",
      "MOV M,A\n",
      "INX H\n",
      "INX D\n",
      "DCR B\n",
      "JNZ\n",
      "LDAX D\n",
      "MOV M,A\n",
      "INX H\n",
      "INX D\n",
      "DCR B\n",
      "JNZ\n",
      "LDAX D\n",
      "MOV M,A\n",
      "INX H\n",
      "INX D\n",
      "DCR B\n",
      "JNZ\n",
      "LDAX D\n",
      "MOV M,A\n",
      "INX H\n",
      "INX D\n",
      "DCR B\n",
      "JNZ\n",
      "LDAX D\n",
      "MOV M,A\n",
      "INX H\n",
      "INX D\n",
      "DCR B\n",
      "JNZ\n",
      "LDAX D\n",
      "MOV M,A\n",
      "INX H\n",
      "INX D\n",
      "DCR B\n",
      "JNZ\n",
      "LDAX D\n",
      "MOV M,A\n",
      "INX H\n",
      "INX D\n",
      "DCR B\n",
      "JNZ\n"
     ]
    }
   ],
   "source": [
    "# check pc difference\n",
    "\n",
    "cpu.set_reg(\"pc\",0)\n",
    "\n",
    "for i in range(0,100):\n",
    "    offset, opcode = cpu.disassemble()\n",
    "\n",
    "    cpu.set_reg(\"pc\",cpu.get_reg(\"pc\")-offset)\n",
    "    pc1 = cpu.get_reg(\"pc\")\n",
    "    pc2 = cpu.run_instruction()\n",
    "    \n",
    "    #if (pc2-pc1) != offset:\n",
    "    print(f\"{pc1:04X} -> {pc2:04X} {opcode}\" )\n"
   ]
  },
  {
   "cell_type": "code",
   "execution_count": null,
   "metadata": {},
   "outputs": [],
   "source": [
    "cpu.set_reg(\"pc\",0)\n",
    "\n",
    "for i in range(0,4000):\n",
    "    offset, opcode = cpu.disassemble()\n",
    "    print(opcode)\n",
    "\n",
    "    pc = cpu.get_reg(\"pc\")\n",
    "    cpu.set_reg(\"pc\",pc-offset)\n",
    "\n",
    "    cpu.run_instruction()\n",
    "    \n",
    "    "
   ]
  },
  {
   "cell_type": "code",
   "execution_count": 5,
   "metadata": {},
   "outputs": [
    {
     "data": {
      "text/plain": [
       "'0x0'"
      ]
     },
     "execution_count": 5,
     "metadata": {},
     "output_type": "execute_result"
    }
   ],
   "source": [
    "# read a byte from memory\n",
    "hex(cpu.read_memory(offset-1))"
   ]
  },
  {
   "cell_type": "code",
   "execution_count": 6,
   "metadata": {},
   "outputs": [
    {
     "data": {
      "text/plain": [
       "0"
      ]
     },
     "execution_count": 6,
     "metadata": {},
     "output_type": "execute_result"
    }
   ],
   "source": [
    "# get register cc\n",
    "cpu.get_reg(\"cc\")"
   ]
  },
  {
   "cell_type": "code",
   "execution_count": 7,
   "metadata": {},
   "outputs": [
    {
     "name": "stdout",
     "output_type": "stream",
     "text": [
      "Setting register cc to 0\n",
      "\t"
     ]
    },
    {
     "data": {
      "text/plain": [
       "0"
      ]
     },
     "execution_count": 7,
     "metadata": {},
     "output_type": "execute_result"
    }
   ],
   "source": [
    "# set register cc\n",
    "cpu.set_reg(register=\"cc\",value=0)"
   ]
  },
  {
   "cell_type": "code",
   "execution_count": null,
   "metadata": {},
   "outputs": [],
   "source": [
    "# disassemble a few instructions\n",
    "cpu.set_reg(\"pc\",0)\n",
    "\n",
    "\n",
    "\n",
    "for i in range(0,offset):\n",
    "    print(cpu.disassemble()[1])"
   ]
  },
  {
   "cell_type": "code",
   "execution_count": 7,
   "metadata": {},
   "outputs": [
    {
     "name": "stdout",
     "output_type": "stream",
     "text": [
      "MOV L,M"
     ]
    }
   ],
   "source": [
    "cpu.run_instruction()"
   ]
  },
  {
   "cell_type": "code",
   "execution_count": 6,
   "metadata": {},
   "outputs": [
    {
     "name": "stdout",
     "output_type": "stream",
     "text": [
      "Setting register pc to 0\n",
      "\t"
     ]
    },
    {
     "data": {
      "text/plain": [
       "0"
      ]
     },
     "execution_count": 6,
     "metadata": {},
     "output_type": "execute_result"
    }
   ],
   "source": [
    "cpu.set_reg(\"pc\",0)"
   ]
  },
  {
   "cell_type": "code",
   "execution_count": 5,
   "metadata": {},
   "outputs": [
    {
     "name": "stdout",
     "output_type": "stream",
     "text": [
      "124\n",
      "Setting register pc to 0\n",
      "\tSetting register b to 1\n",
      "\tSetting register a to 123\n",
      "\tADD B\n"
     ]
    }
   ],
   "source": [
    "cpu.set_reg(\"pc\",0)\n",
    "cpu.set_memory(0,0x80)\n",
    "\n",
    "cpu.set_reg(\"b\",1)\n",
    "cpu.set_reg(\"a\",123)\n",
    "\n",
    "cpu.run_instruction()\n",
    "\n",
    "print(cpu.get_reg(\"a\"))"
   ]
  },
  {
   "cell_type": "code",
   "execution_count": 6,
   "metadata": {},
   "outputs": [
    {
     "name": "stdout",
     "output_type": "stream",
     "text": [
      "255\n",
      "Setting register pc to 0\n",
      "\tSetting register b to 21\n",
      "\tSetting register a to 20\n",
      "\tSUB B\n"
     ]
    }
   ],
   "source": [
    "cpu.set_reg(\"pc\",0)\n",
    "cpu.set_memory(0,0x90)\n",
    "\n",
    "cpu.set_reg(\"b\",21)\n",
    "cpu.set_reg(\"a\",20)\n",
    "\n",
    "cpu.run_instruction()\n",
    "\n",
    "print(cpu.get_reg(\"a\"))"
   ]
  },
  {
   "cell_type": "code",
   "execution_count": 7,
   "metadata": {},
   "outputs": [
    {
     "name": "stdout",
     "output_type": "stream",
     "text": [
      "52\n",
      "Setting register cc to 0\n",
      "\tSetting register pc to 0\n",
      "\tSetting register b to 254\n",
      "\tSetting register a to 50\n",
      "\tSBB B\n"
     ]
    }
   ],
   "source": [
    "cpu.set_reg(\"cc\",0x00)\n",
    "cpu.set_reg(\"pc\",0)\n",
    "cpu.set_memory(0,0x98)\n",
    "\n",
    "\n",
    "\n",
    "cpu.set_reg(\"b\",254)\n",
    "cpu.set_reg(\"a\",50)\n",
    "\n",
    "cpu.run_instruction()\n",
    "\n",
    "print(cpu.get_reg(\"a\"))"
   ]
  },
  {
   "cell_type": "code",
   "execution_count": 20,
   "metadata": {},
   "outputs": [
    {
     "data": {
      "text/plain": [
       "'0x38'"
      ]
     },
     "execution_count": 20,
     "metadata": {},
     "output_type": "execute_result"
    }
   ],
   "source": [
    "hex(0xff & 0b111000)"
   ]
  },
  {
   "cell_type": "code",
   "execution_count": null,
   "metadata": {},
   "outputs": [],
   "source": []
  }
 ],
 "metadata": {
  "kernelspec": {
   "display_name": "Python 3.11.0 ('python8bit')",
   "language": "python",
   "name": "python3"
  },
  "language_info": {
   "codemirror_mode": {
    "name": "ipython",
    "version": 3
   },
   "file_extension": ".py",
   "mimetype": "text/x-python",
   "name": "python",
   "nbconvert_exporter": "python",
   "pygments_lexer": "ipython3",
   "version": "3.11.0"
  },
  "orig_nbformat": 4,
  "vscode": {
   "interpreter": {
    "hash": "2917d79575cb36df6e26f7af0c5fc9176e632233142857ae4ca7cf13f766e084"
   }
  }
 },
 "nbformat": 4,
 "nbformat_minor": 2
}
